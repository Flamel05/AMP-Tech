{
  "nbformat": 4,
  "nbformat_minor": 0,
  "metadata": {
    "colab": {
      "name": "Untitled0.ipynb",
      "provenance": [],
      "authorship_tag": "ABX9TyOVFqnMrOqlsPpfsZJFhrnf",
      "include_colab_link": true
    },
    "kernelspec": {
      "name": "python3",
      "display_name": "Python 3"
    }
  },
  "cells": [
    {
      "cell_type": "markdown",
      "metadata": {
        "id": "view-in-github",
        "colab_type": "text"
      },
      "source": [
        "<a href=\"https://colab.research.google.com/github/Flamel05/AMP-Tech/blob/master/classifier_tree.ipynb\" target=\"_parent\"><img src=\"https://colab.research.google.com/assets/colab-badge.svg\" alt=\"Open In Colab\"/></a>"
      ]
    },
    {
      "cell_type": "code",
      "metadata": {
        "id": "N6Zp_4zS1YSZ"
      },
      "source": [
        "from sklearn.tree import DecisionTreeClassifier\n",
        "from sklearn.datasets import load_breast_cancer, load_iris\n",
        "from sklearn.model_selection import train_test_split\n",
        "from sklearn.tree import export_graphviz\n",
        "import graphviz\n",
        "import matplotlib.pyplot as plt\n",
        "import numpy as np"
      ],
      "execution_count": 3,
      "outputs": []
    },
    {
      "cell_type": "code",
      "metadata": {
        "id": "dps-soIk2q97"
      },
      "source": [
        "iris=load_iris()"
      ],
      "execution_count": 4,
      "outputs": []
    },
    {
      "cell_type": "code",
      "metadata": {
        "id": "6pWQZwfk2viP"
      },
      "source": [
        "X_entrenamiento,X_test,y_entrenamiento,y_test=train_test_split(iris.data,iris.target)"
      ],
      "execution_count": 5,
      "outputs": []
    },
    {
      "cell_type": "code",
      "metadata": {
        "id": "yMi0kE0K3aP_"
      },
      "source": [
        "arbol=DecisionTreeClassifier()"
      ],
      "execution_count": 6,
      "outputs": []
    },
    {
      "cell_type": "code",
      "metadata": {
        "colab": {
          "base_uri": "https://localhost:8080/"
        },
        "id": "cXUQzaV83x-S",
        "outputId": "f862f1f2-f300-4ebc-e11b-29700b309423"
      },
      "source": [
        "arbol.fit(X_entrenamiento,y_entrenamiento)"
      ],
      "execution_count": 7,
      "outputs": [
        {
          "output_type": "execute_result",
          "data": {
            "text/plain": [
              "DecisionTreeClassifier(ccp_alpha=0.0, class_weight=None, criterion='gini',\n",
              "                       max_depth=None, max_features=None, max_leaf_nodes=None,\n",
              "                       min_impurity_decrease=0.0, min_impurity_split=None,\n",
              "                       min_samples_leaf=1, min_samples_split=2,\n",
              "                       min_weight_fraction_leaf=0.0, presort='deprecated',\n",
              "                       random_state=None, splitter='best')"
            ]
          },
          "metadata": {
            "tags": []
          },
          "execution_count": 7
        }
      ]
    },
    {
      "cell_type": "code",
      "metadata": {
        "colab": {
          "base_uri": "https://localhost:8080/"
        },
        "id": "9TK8tm6S36Y_",
        "outputId": "7548bf1b-f7e4-4aef-a1f0-3485a6844ce8"
      },
      "source": [
        "arbol.score(X_test,y_test)"
      ],
      "execution_count": 8,
      "outputs": [
        {
          "output_type": "execute_result",
          "data": {
            "text/plain": [
              "0.9473684210526315"
            ]
          },
          "metadata": {
            "tags": []
          },
          "execution_count": 8
        }
      ]
    },
    {
      "cell_type": "code",
      "metadata": {
        "id": "4d3pmw3s4Cam"
      },
      "source": [
        "export_graphviz(arbol,out_file='arbol.dot',class_names=iris.target_names,feature_names=iris.feature_names,impurity=False,filled=True)"
      ],
      "execution_count": 9,
      "outputs": []
    },
    {
      "cell_type": "code",
      "metadata": {
        "colab": {
          "base_uri": "https://localhost:8080/"
        },
        "id": "iPFyugGU4W6-",
        "outputId": "247a8977-5343-4d5d-a621-546862de5b89"
      },
      "source": [
        "arbol.score(X_entrenamiento,y_entrenamiento)"
      ],
      "execution_count": 10,
      "outputs": [
        {
          "output_type": "execute_result",
          "data": {
            "text/plain": [
              "1.0"
            ]
          },
          "metadata": {
            "tags": []
          },
          "execution_count": 10
        }
      ]
    },
    {
      "cell_type": "code",
      "metadata": {
        "colab": {
          "base_uri": "https://localhost:8080/",
          "height": 657
        },
        "id": "ELWHWRFT4-V3",
        "outputId": "92aae5aa-cfc6-4960-826b-c3868bef8e4d"
      },
      "source": [
        "with open('arbol.dot') as f:\n",
        "  dot_graph=f.read()\n",
        "graphviz.Source(dot_graph)"
      ],
      "execution_count": 11,
      "outputs": [
        {
          "output_type": "execute_result",
          "data": {
            "text/plain": [
              "<graphviz.files.Source at 0x7f6e10f8f710>"
            ],
            "image/svg+xml": "<?xml version=\"1.0\" encoding=\"UTF-8\" standalone=\"no\"?>\n<!DOCTYPE svg PUBLIC \"-//W3C//DTD SVG 1.1//EN\"\n \"http://www.w3.org/Graphics/SVG/1.1/DTD/svg11.dtd\">\n<!-- Generated by graphviz version 2.40.1 (20161225.0304)\n -->\n<!-- Title: Tree Pages: 1 -->\n<svg width=\"801pt\" height=\"477pt\"\n viewBox=\"0.00 0.00 801.00 477.00\" xmlns=\"http://www.w3.org/2000/svg\" xmlns:xlink=\"http://www.w3.org/1999/xlink\">\n<g id=\"graph0\" class=\"graph\" transform=\"scale(1 1) rotate(0) translate(4 473)\">\n<title>Tree</title>\n<polygon fill=\"#ffffff\" stroke=\"transparent\" points=\"-4,4 -4,-473 797,-473 797,4 -4,4\"/>\n<!-- 0 -->\n<g id=\"node1\" class=\"node\">\n<title>0</title>\n<polygon fill=\"#f0e8fc\" stroke=\"#000000\" points=\"479,-469 326,-469 326,-401 479,-401 479,-469\"/>\n<text text-anchor=\"middle\" x=\"402.5\" y=\"-453.8\" font-family=\"Times,serif\" font-size=\"14.00\" fill=\"#000000\">petal width (cm) &lt;= 0.7</text>\n<text text-anchor=\"middle\" x=\"402.5\" y=\"-438.8\" font-family=\"Times,serif\" font-size=\"14.00\" fill=\"#000000\">samples = 112</text>\n<text text-anchor=\"middle\" x=\"402.5\" y=\"-423.8\" font-family=\"Times,serif\" font-size=\"14.00\" fill=\"#000000\">value = [33, 35, 44]</text>\n<text text-anchor=\"middle\" x=\"402.5\" y=\"-408.8\" font-family=\"Times,serif\" font-size=\"14.00\" fill=\"#000000\">class = virginica</text>\n</g>\n<!-- 1 -->\n<g id=\"node2\" class=\"node\">\n<title>1</title>\n<polygon fill=\"#e58139\" stroke=\"#000000\" points=\"383,-357.5 266,-357.5 266,-304.5 383,-304.5 383,-357.5\"/>\n<text text-anchor=\"middle\" x=\"324.5\" y=\"-342.3\" font-family=\"Times,serif\" font-size=\"14.00\" fill=\"#000000\">samples = 33</text>\n<text text-anchor=\"middle\" x=\"324.5\" y=\"-327.3\" font-family=\"Times,serif\" font-size=\"14.00\" fill=\"#000000\">value = [33, 0, 0]</text>\n<text text-anchor=\"middle\" x=\"324.5\" y=\"-312.3\" font-family=\"Times,serif\" font-size=\"14.00\" fill=\"#000000\">class = setosa</text>\n</g>\n<!-- 0&#45;&gt;1 -->\n<g id=\"edge1\" class=\"edge\">\n<title>0&#45;&gt;1</title>\n<path fill=\"none\" stroke=\"#000000\" d=\"M376.9599,-400.9465C368.4509,-389.6012 358.9675,-376.9567 350.4293,-365.5724\"/>\n<polygon fill=\"#000000\" stroke=\"#000000\" points=\"353.2067,-363.4422 344.4066,-357.5422 347.6067,-367.6422 353.2067,-363.4422\"/>\n<text text-anchor=\"middle\" x=\"340.8711\" y=\"-378.5909\" font-family=\"Times,serif\" font-size=\"14.00\" fill=\"#000000\">True</text>\n</g>\n<!-- 2 -->\n<g id=\"node3\" class=\"node\">\n<title>2</title>\n<polygon fill=\"#e5d7fa\" stroke=\"#000000\" points=\"562,-365 401,-365 401,-297 562,-297 562,-365\"/>\n<text text-anchor=\"middle\" x=\"481.5\" y=\"-349.8\" font-family=\"Times,serif\" font-size=\"14.00\" fill=\"#000000\">petal width (cm) &lt;= 1.75</text>\n<text text-anchor=\"middle\" x=\"481.5\" y=\"-334.8\" font-family=\"Times,serif\" font-size=\"14.00\" fill=\"#000000\">samples = 79</text>\n<text text-anchor=\"middle\" x=\"481.5\" y=\"-319.8\" font-family=\"Times,serif\" font-size=\"14.00\" fill=\"#000000\">value = [0, 35, 44]</text>\n<text text-anchor=\"middle\" x=\"481.5\" y=\"-304.8\" font-family=\"Times,serif\" font-size=\"14.00\" fill=\"#000000\">class = virginica</text>\n</g>\n<!-- 0&#45;&gt;2 -->\n<g id=\"edge2\" class=\"edge\">\n<title>0&#45;&gt;2</title>\n<path fill=\"none\" stroke=\"#000000\" d=\"M428.3676,-400.9465C435.1196,-392.0578 442.4774,-382.3716 449.5059,-373.1188\"/>\n<polygon fill=\"#000000\" stroke=\"#000000\" points=\"452.3125,-375.2102 455.5743,-365.13 446.7383,-370.976 452.3125,-375.2102\"/>\n<text text-anchor=\"middle\" x=\"458.9582\" y=\"-386.1999\" font-family=\"Times,serif\" font-size=\"14.00\" fill=\"#000000\">False</text>\n</g>\n<!-- 3 -->\n<g id=\"node4\" class=\"node\">\n<title>3</title>\n<polygon fill=\"#50e890\" stroke=\"#000000\" points=\"465.5,-261 301.5,-261 301.5,-193 465.5,-193 465.5,-261\"/>\n<text text-anchor=\"middle\" x=\"383.5\" y=\"-245.8\" font-family=\"Times,serif\" font-size=\"14.00\" fill=\"#000000\">petal length (cm) &lt;= 4.95</text>\n<text text-anchor=\"middle\" x=\"383.5\" y=\"-230.8\" font-family=\"Times,serif\" font-size=\"14.00\" fill=\"#000000\">samples = 38</text>\n<text text-anchor=\"middle\" x=\"383.5\" y=\"-215.8\" font-family=\"Times,serif\" font-size=\"14.00\" fill=\"#000000\">value = [0, 34, 4]</text>\n<text text-anchor=\"middle\" x=\"383.5\" y=\"-200.8\" font-family=\"Times,serif\" font-size=\"14.00\" fill=\"#000000\">class = versicolor</text>\n</g>\n<!-- 2&#45;&gt;3 -->\n<g id=\"edge3\" class=\"edge\">\n<title>2&#45;&gt;3</title>\n<path fill=\"none\" stroke=\"#000000\" d=\"M449.4111,-296.9465C440.866,-287.8782 431.5387,-277.9799 422.6609,-268.5585\"/>\n<polygon fill=\"#000000\" stroke=\"#000000\" points=\"425.0663,-266.0076 415.661,-261.13 419.9717,-270.8082 425.0663,-266.0076\"/>\n</g>\n<!-- 10 -->\n<g id=\"node11\" class=\"node\">\n<title>10</title>\n<polygon fill=\"#843ee6\" stroke=\"#000000\" points=\"662.5,-261 498.5,-261 498.5,-193 662.5,-193 662.5,-261\"/>\n<text text-anchor=\"middle\" x=\"580.5\" y=\"-245.8\" font-family=\"Times,serif\" font-size=\"14.00\" fill=\"#000000\">petal length (cm) &lt;= 4.85</text>\n<text text-anchor=\"middle\" x=\"580.5\" y=\"-230.8\" font-family=\"Times,serif\" font-size=\"14.00\" fill=\"#000000\">samples = 41</text>\n<text text-anchor=\"middle\" x=\"580.5\" y=\"-215.8\" font-family=\"Times,serif\" font-size=\"14.00\" fill=\"#000000\">value = [0, 1, 40]</text>\n<text text-anchor=\"middle\" x=\"580.5\" y=\"-200.8\" font-family=\"Times,serif\" font-size=\"14.00\" fill=\"#000000\">class = virginica</text>\n</g>\n<!-- 2&#45;&gt;10 -->\n<g id=\"edge10\" class=\"edge\">\n<title>2&#45;&gt;10</title>\n<path fill=\"none\" stroke=\"#000000\" d=\"M513.9163,-296.9465C522.5486,-287.8782 531.9711,-277.9799 540.9395,-268.5585\"/>\n<polygon fill=\"#000000\" stroke=\"#000000\" points=\"543.6511,-270.7863 548.0109,-261.13 538.581,-265.9599 543.6511,-270.7863\"/>\n</g>\n<!-- 4 -->\n<g id=\"node5\" class=\"node\">\n<title>4</title>\n<polygon fill=\"#3fe685\" stroke=\"#000000\" points=\"271,-157 110,-157 110,-89 271,-89 271,-157\"/>\n<text text-anchor=\"middle\" x=\"190.5\" y=\"-141.8\" font-family=\"Times,serif\" font-size=\"14.00\" fill=\"#000000\">petal width (cm) &lt;= 1.65</text>\n<text text-anchor=\"middle\" x=\"190.5\" y=\"-126.8\" font-family=\"Times,serif\" font-size=\"14.00\" fill=\"#000000\">samples = 34</text>\n<text text-anchor=\"middle\" x=\"190.5\" y=\"-111.8\" font-family=\"Times,serif\" font-size=\"14.00\" fill=\"#000000\">value = [0, 33, 1]</text>\n<text text-anchor=\"middle\" x=\"190.5\" y=\"-96.8\" font-family=\"Times,serif\" font-size=\"14.00\" fill=\"#000000\">class = versicolor</text>\n</g>\n<!-- 3&#45;&gt;4 -->\n<g id=\"edge4\" class=\"edge\">\n<title>3&#45;&gt;4</title>\n<path fill=\"none\" stroke=\"#000000\" d=\"M320.3046,-192.9465C301.893,-183.0252 281.6377,-172.1105 262.715,-161.9138\"/>\n<polygon fill=\"#000000\" stroke=\"#000000\" points=\"264.301,-158.7926 253.8374,-157.13 260.9803,-164.9549 264.301,-158.7926\"/>\n</g>\n<!-- 7 -->\n<g id=\"node8\" class=\"node\">\n<title>7</title>\n<polygon fill=\"#ab7bee\" stroke=\"#000000\" points=\"462.5,-157 304.5,-157 304.5,-89 462.5,-89 462.5,-157\"/>\n<text text-anchor=\"middle\" x=\"383.5\" y=\"-141.8\" font-family=\"Times,serif\" font-size=\"14.00\" fill=\"#000000\">sepal length (cm) &lt;= 6.5</text>\n<text text-anchor=\"middle\" x=\"383.5\" y=\"-126.8\" font-family=\"Times,serif\" font-size=\"14.00\" fill=\"#000000\">samples = 4</text>\n<text text-anchor=\"middle\" x=\"383.5\" y=\"-111.8\" font-family=\"Times,serif\" font-size=\"14.00\" fill=\"#000000\">value = [0, 1, 3]</text>\n<text text-anchor=\"middle\" x=\"383.5\" y=\"-96.8\" font-family=\"Times,serif\" font-size=\"14.00\" fill=\"#000000\">class = virginica</text>\n</g>\n<!-- 3&#45;&gt;7 -->\n<g id=\"edge7\" class=\"edge\">\n<title>3&#45;&gt;7</title>\n<path fill=\"none\" stroke=\"#000000\" d=\"M383.5,-192.9465C383.5,-184.776 383.5,-175.9318 383.5,-167.3697\"/>\n<polygon fill=\"#000000\" stroke=\"#000000\" points=\"387.0001,-167.13 383.5,-157.13 380.0001,-167.13 387.0001,-167.13\"/>\n</g>\n<!-- 5 -->\n<g id=\"node6\" class=\"node\">\n<title>5</title>\n<polygon fill=\"#39e581\" stroke=\"#000000\" points=\"117,-53 0,-53 0,0 117,0 117,-53\"/>\n<text text-anchor=\"middle\" x=\"58.5\" y=\"-37.8\" font-family=\"Times,serif\" font-size=\"14.00\" fill=\"#000000\">samples = 33</text>\n<text text-anchor=\"middle\" x=\"58.5\" y=\"-22.8\" font-family=\"Times,serif\" font-size=\"14.00\" fill=\"#000000\">value = [0, 33, 0]</text>\n<text text-anchor=\"middle\" x=\"58.5\" y=\"-7.8\" font-family=\"Times,serif\" font-size=\"14.00\" fill=\"#000000\">class = versicolor</text>\n</g>\n<!-- 4&#45;&gt;5 -->\n<g id=\"edge5\" class=\"edge\">\n<title>4&#45;&gt;5</title>\n<path fill=\"none\" stroke=\"#000000\" d=\"M143.9617,-88.9777C130.8099,-79.3629 116.5257,-68.9203 103.468,-59.3743\"/>\n<polygon fill=\"#000000\" stroke=\"#000000\" points=\"105.227,-56.3247 95.0886,-53.2485 101.0958,-61.9757 105.227,-56.3247\"/>\n</g>\n<!-- 6 -->\n<g id=\"node7\" class=\"node\">\n<title>6</title>\n<polygon fill=\"#8139e5\" stroke=\"#000000\" points=\"245.5,-53 135.5,-53 135.5,0 245.5,0 245.5,-53\"/>\n<text text-anchor=\"middle\" x=\"190.5\" y=\"-37.8\" font-family=\"Times,serif\" font-size=\"14.00\" fill=\"#000000\">samples = 1</text>\n<text text-anchor=\"middle\" x=\"190.5\" y=\"-22.8\" font-family=\"Times,serif\" font-size=\"14.00\" fill=\"#000000\">value = [0, 0, 1]</text>\n<text text-anchor=\"middle\" x=\"190.5\" y=\"-7.8\" font-family=\"Times,serif\" font-size=\"14.00\" fill=\"#000000\">class = virginica</text>\n</g>\n<!-- 4&#45;&gt;6 -->\n<g id=\"edge6\" class=\"edge\">\n<title>4&#45;&gt;6</title>\n<path fill=\"none\" stroke=\"#000000\" d=\"M190.5,-88.9777C190.5,-80.7364 190.5,-71.887 190.5,-63.5153\"/>\n<polygon fill=\"#000000\" stroke=\"#000000\" points=\"194.0001,-63.2484 190.5,-53.2485 187.0001,-63.2485 194.0001,-63.2484\"/>\n</g>\n<!-- 8 -->\n<g id=\"node9\" class=\"node\">\n<title>8</title>\n<polygon fill=\"#8139e5\" stroke=\"#000000\" points=\"373.5,-53 263.5,-53 263.5,0 373.5,0 373.5,-53\"/>\n<text text-anchor=\"middle\" x=\"318.5\" y=\"-37.8\" font-family=\"Times,serif\" font-size=\"14.00\" fill=\"#000000\">samples = 3</text>\n<text text-anchor=\"middle\" x=\"318.5\" y=\"-22.8\" font-family=\"Times,serif\" font-size=\"14.00\" fill=\"#000000\">value = [0, 0, 3]</text>\n<text text-anchor=\"middle\" x=\"318.5\" y=\"-7.8\" font-family=\"Times,serif\" font-size=\"14.00\" fill=\"#000000\">class = virginica</text>\n</g>\n<!-- 7&#45;&gt;8 -->\n<g id=\"edge8\" class=\"edge\">\n<title>7&#45;&gt;8</title>\n<path fill=\"none\" stroke=\"#000000\" d=\"M360.5834,-88.9777C354.6006,-80.0954 348.1418,-70.5067 342.123,-61.5711\"/>\n<polygon fill=\"#000000\" stroke=\"#000000\" points=\"345.0067,-59.5871 336.5171,-53.2485 339.2009,-63.4978 345.0067,-59.5871\"/>\n</g>\n<!-- 9 -->\n<g id=\"node10\" class=\"node\">\n<title>9</title>\n<polygon fill=\"#39e581\" stroke=\"#000000\" points=\"507,-53 392,-53 392,0 507,0 507,-53\"/>\n<text text-anchor=\"middle\" x=\"449.5\" y=\"-37.8\" font-family=\"Times,serif\" font-size=\"14.00\" fill=\"#000000\">samples = 1</text>\n<text text-anchor=\"middle\" x=\"449.5\" y=\"-22.8\" font-family=\"Times,serif\" font-size=\"14.00\" fill=\"#000000\">value = [0, 1, 0]</text>\n<text text-anchor=\"middle\" x=\"449.5\" y=\"-7.8\" font-family=\"Times,serif\" font-size=\"14.00\" fill=\"#000000\">class = versicolor</text>\n</g>\n<!-- 7&#45;&gt;9 -->\n<g id=\"edge9\" class=\"edge\">\n<title>7&#45;&gt;9</title>\n<path fill=\"none\" stroke=\"#000000\" d=\"M406.7691,-88.9777C412.844,-80.0954 419.4021,-70.5067 425.5135,-61.5711\"/>\n<polygon fill=\"#000000\" stroke=\"#000000\" points=\"428.4493,-63.4785 431.2057,-53.2485 422.6714,-59.5267 428.4493,-63.4785\"/>\n</g>\n<!-- 11 -->\n<g id=\"node12\" class=\"node\">\n<title>11</title>\n<polygon fill=\"#ffffff\" stroke=\"#000000\" points=\"658,-157 503,-157 503,-89 658,-89 658,-157\"/>\n<text text-anchor=\"middle\" x=\"580.5\" y=\"-141.8\" font-family=\"Times,serif\" font-size=\"14.00\" fill=\"#000000\">sepal width (cm) &lt;= 3.1</text>\n<text text-anchor=\"middle\" x=\"580.5\" y=\"-126.8\" font-family=\"Times,serif\" font-size=\"14.00\" fill=\"#000000\">samples = 2</text>\n<text text-anchor=\"middle\" x=\"580.5\" y=\"-111.8\" font-family=\"Times,serif\" font-size=\"14.00\" fill=\"#000000\">value = [0, 1, 1]</text>\n<text text-anchor=\"middle\" x=\"580.5\" y=\"-96.8\" font-family=\"Times,serif\" font-size=\"14.00\" fill=\"#000000\">class = versicolor</text>\n</g>\n<!-- 10&#45;&gt;11 -->\n<g id=\"edge11\" class=\"edge\">\n<title>10&#45;&gt;11</title>\n<path fill=\"none\" stroke=\"#000000\" d=\"M580.5,-192.9465C580.5,-184.776 580.5,-175.9318 580.5,-167.3697\"/>\n<polygon fill=\"#000000\" stroke=\"#000000\" points=\"584.0001,-167.13 580.5,-157.13 577.0001,-167.13 584.0001,-167.13\"/>\n</g>\n<!-- 14 -->\n<g id=\"node15\" class=\"node\">\n<title>14</title>\n<polygon fill=\"#8139e5\" stroke=\"#000000\" points=\"793,-149.5 676,-149.5 676,-96.5 793,-96.5 793,-149.5\"/>\n<text text-anchor=\"middle\" x=\"734.5\" y=\"-134.3\" font-family=\"Times,serif\" font-size=\"14.00\" fill=\"#000000\">samples = 39</text>\n<text text-anchor=\"middle\" x=\"734.5\" y=\"-119.3\" font-family=\"Times,serif\" font-size=\"14.00\" fill=\"#000000\">value = [0, 0, 39]</text>\n<text text-anchor=\"middle\" x=\"734.5\" y=\"-104.3\" font-family=\"Times,serif\" font-size=\"14.00\" fill=\"#000000\">class = virginica</text>\n</g>\n<!-- 10&#45;&gt;14 -->\n<g id=\"edge14\" class=\"edge\">\n<title>10&#45;&gt;14</title>\n<path fill=\"none\" stroke=\"#000000\" d=\"M630.9254,-192.9465C648.8669,-180.8301 669.0026,-167.232 686.7162,-155.2696\"/>\n<polygon fill=\"#000000\" stroke=\"#000000\" points=\"688.8687,-158.0393 695.1972,-149.5422 684.9511,-152.2382 688.8687,-158.0393\"/>\n</g>\n<!-- 12 -->\n<g id=\"node13\" class=\"node\">\n<title>12</title>\n<polygon fill=\"#8139e5\" stroke=\"#000000\" points=\"635.5,-53 525.5,-53 525.5,0 635.5,0 635.5,-53\"/>\n<text text-anchor=\"middle\" x=\"580.5\" y=\"-37.8\" font-family=\"Times,serif\" font-size=\"14.00\" fill=\"#000000\">samples = 1</text>\n<text text-anchor=\"middle\" x=\"580.5\" y=\"-22.8\" font-family=\"Times,serif\" font-size=\"14.00\" fill=\"#000000\">value = [0, 0, 1]</text>\n<text text-anchor=\"middle\" x=\"580.5\" y=\"-7.8\" font-family=\"Times,serif\" font-size=\"14.00\" fill=\"#000000\">class = virginica</text>\n</g>\n<!-- 11&#45;&gt;12 -->\n<g id=\"edge12\" class=\"edge\">\n<title>11&#45;&gt;12</title>\n<path fill=\"none\" stroke=\"#000000\" d=\"M580.5,-88.9777C580.5,-80.7364 580.5,-71.887 580.5,-63.5153\"/>\n<polygon fill=\"#000000\" stroke=\"#000000\" points=\"584.0001,-63.2484 580.5,-53.2485 577.0001,-63.2485 584.0001,-63.2484\"/>\n</g>\n<!-- 13 -->\n<g id=\"node14\" class=\"node\">\n<title>13</title>\n<polygon fill=\"#39e581\" stroke=\"#000000\" points=\"769,-53 654,-53 654,0 769,0 769,-53\"/>\n<text text-anchor=\"middle\" x=\"711.5\" y=\"-37.8\" font-family=\"Times,serif\" font-size=\"14.00\" fill=\"#000000\">samples = 1</text>\n<text text-anchor=\"middle\" x=\"711.5\" y=\"-22.8\" font-family=\"Times,serif\" font-size=\"14.00\" fill=\"#000000\">value = [0, 1, 0]</text>\n<text text-anchor=\"middle\" x=\"711.5\" y=\"-7.8\" font-family=\"Times,serif\" font-size=\"14.00\" fill=\"#000000\">class = versicolor</text>\n</g>\n<!-- 11&#45;&gt;13 -->\n<g id=\"edge13\" class=\"edge\">\n<title>11&#45;&gt;13</title>\n<path fill=\"none\" stroke=\"#000000\" d=\"M626.6857,-88.9777C639.7379,-79.3629 653.9139,-68.9203 666.8727,-59.3743\"/>\n<polygon fill=\"#000000\" stroke=\"#000000\" points=\"669.2131,-61.9974 675.1886,-53.2485 665.0614,-56.3615 669.2131,-61.9974\"/>\n</g>\n</g>\n</svg>\n"
          },
          "metadata": {
            "tags": []
          },
          "execution_count": 11
        }
      ]
    },
    {
      "cell_type": "code",
      "metadata": {
        "colab": {
          "base_uri": "https://localhost:8080/",
          "height": 297
        },
        "id": "77x_VS-55atp",
        "outputId": "56ed20b4-34c2-4606-9ad6-639d7396b854"
      },
      "source": [
        "caract=iris.data.shape[1]\n",
        "plt.barh(range(caract), arbol.feature_importances_)\n",
        "plt.yticks(np.arange(caract),iris.feature_names)\n",
        "plt.xlabel('Importancia de las carcteristicas')\n",
        "plt.ylabel('Carateristica')\n",
        "plt.show"
      ],
      "execution_count": 12,
      "outputs": [
        {
          "output_type": "execute_result",
          "data": {
            "text/plain": [
              "<function matplotlib.pyplot.show>"
            ]
          },
          "metadata": {
            "tags": []
          },
          "execution_count": 12
        },
        {
          "output_type": "display_data",
          "data": {
            "image/png": "[encoded data removed]",
            "text/plain": [
              "<Figure size 432x288 with 1 Axes>"
            ]
          },
          "metadata": {
            "tags": [],
            "needs_background": "light"
          }
        }
      ]
    },
    {
      "cell_type": "code",
      "metadata": {
        "id": "RTApWfh-6Nay"
      },
      "source": [
        "arbol=DecisionTreeClassifier(max_depth=3)"
      ],
      "execution_count": 13,
      "outputs": []
    },
    {
      "cell_type": "code",
      "metadata": {
        "colab": {
          "base_uri": "https://localhost:8080/"
        },
        "id": "Vu_WFJ1E6VRo",
        "outputId": "b61ac36c-100c-4ff2-90cb-fe99d61d3c14"
      },
      "source": [
        "arbol.fit(X_entrenamiento,y_entrenamiento)"
      ],
      "execution_count": 14,
      "outputs": [
        {
          "output_type": "execute_result",
          "data": {
            "text/plain": [
              "DecisionTreeClassifier(ccp_alpha=0.0, class_weight=None, criterion='gini',\n",
              "                       max_depth=3, max_features=None, max_leaf_nodes=None,\n",
              "                       min_impurity_decrease=0.0, min_impurity_split=None,\n",
              "                       min_samples_leaf=1, min_samples_split=2,\n",
              "                       min_weight_fraction_leaf=0.0, presort='deprecated',\n",
              "                       random_state=None, splitter='best')"
            ]
          },
          "metadata": {
            "tags": []
          },
          "execution_count": 14
        }
      ]
    },
    {
      "cell_type": "code",
      "metadata": {
        "colab": {
          "base_uri": "https://localhost:8080/"
        },
        "id": "fksYP02d6a0I",
        "outputId": "6dabc527-ad12-4118-f998-1384209f3faa"
      },
      "source": [
        "arbol.score(X_test,y_test)"
      ],
      "execution_count": 15,
      "outputs": [
        {
          "output_type": "execute_result",
          "data": {
            "text/plain": [
              "0.9473684210526315"
            ]
          },
          "metadata": {
            "tags": []
          },
          "execution_count": 15
        }
      ]
    },
    {
      "cell_type": "code",
      "metadata": {
        "colab": {
          "base_uri": "https://localhost:8080/"
        },
        "id": "TpkkKAsU6iyB",
        "outputId": "e8c91f6a-4676-4e44-dafb-c0e9db4dd631"
      },
      "source": [
        "arbol.score(X_entrenamiento,y_entrenamiento)"
      ],
      "execution_count": 16,
      "outputs": [
        {
          "output_type": "execute_result",
          "data": {
            "text/plain": [
              "0.9732142857142857"
            ]
          },
          "metadata": {
            "tags": []
          },
          "execution_count": 16
        }
      ]
    },
    {
      "cell_type": "code",
      "metadata": {
        "colab": {
          "base_uri": "https://localhost:8080/",
          "height": 308
        },
        "id": "Q0x_1mF27Yq8",
        "outputId": "b338ebb1-ac7d-47ea-83df-ebc3799ab4d5"
      },
      "source": [
        "n_classes=3\n",
        "plot_colors=\"bry\"\n",
        "plot_step=0.02\n",
        "\n",
        "for pairidx, pair in enumerate([[0,1], [0,2], [0,3],\n",
        "                                [1,2], [1,3], [2,3]]):\n",
        "  X=iris.data[:, pair]\n",
        "  y=iris.target\n",
        "\n",
        "  #Entrenar algoritmo\n",
        "  clf=DecisionTreeClassifier(max_depth=3).fit(X, y)\n",
        "\n",
        "  plt.subplot(2, 3, pairidx + 1)\n",
        "\n",
        "  x_min, x_max = X[:, 0].min()-1,X[:,0].max()+1\n",
        "  y_min, y_max = X[:, 0].min()-1,X[:,0].max()+1\n",
        "  xx, yy=np.meshgrid(np.arange(x_min, x_max, plot_step),\n",
        "                     np.arange(y_min, y_max, plot_step))\n",
        "  \n",
        "  Z=clf.predict(np.c_[xx.ravel(), yy.ravel()])\n",
        "  Z=Z.reshape(xx.shape)\n",
        "  cs=plt.contourf(xx, yy, Z, cmap=plt.cm.Paired)\n",
        "\n",
        "  plt.xlabel(iris.feature_names[pair[0]])\n",
        "  plt.ylabel(iris.feature_names[pair[1]])\n",
        "  plt.axis('tight')\n",
        "\n",
        "  for i, color in zip(range(n_classes), plot_colors):\n",
        "    idx=np.where(y==1)\n",
        "    plt.scatter(X[idx,0],X[idx,1], c=color, label=iris.target_names[i], \n",
        "                cmap=plt.cm.Paired)\n",
        "    plt.axis('tight')\n",
        "\n",
        "plt.suptitle(\"Ejemplos de clasificador de arboles\")\n",
        "plt.legend()\n",
        "plt.show()"
      ],
      "execution_count": 19,
      "outputs": [
        {
          "output_type": "display_data",
          "data": {
            "image/png": "[encoded data removed]",
            "text/plain": [
              "<Figure size 432x288 with 6 Axes>"
            ]
          },
          "metadata": {
            "tags": [],
            "needs_background": "light"
          }
        }
      ]
    }
  ]
}